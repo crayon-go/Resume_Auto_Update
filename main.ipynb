{
 "cells": [
  {
   "cell_type": "code",
   "execution_count": 1,
   "metadata": {},
   "outputs": [],
   "source": [
    "import requests\n",
    "import time\n",
    "import json\n",
    "import selenium.webdriver.support.ui as ui\n",
    "from selenium.webdriver.common.keys import Keys\n",
    "import threading\n",
    "import queue\n",
    "import random\n",
    "import datetime\n",
    "import pyperclip\n",
    "\n",
    "from urllib.error import URLError, HTTPError\n",
    "from selenium import webdriver\n",
    "from selenium.webdriver.chrome.options import Options\n",
    "from selenium.webdriver.remote.webelement import WebElement\n",
    "from selenium.webdriver.common.keys import Keys\n",
    "from selenium.webdriver import ActionChains\n",
    "from pprint import pprint\n",
    "from selenium.webdriver.common.alert import Alert\n",
    "from config.site_config import *\n"
   ]
  },
  {
   "cell_type": "code",
   "execution_count": 2,
   "metadata": {},
   "outputs": [],
   "source": [
    "DRIVER_PATH = './config/chromedriver'\n",
    "CHROME_OPTIONS = Options()\n",
    "\n",
    "#driver.implicitly_wait(3)"
   ]
  },
  {
   "cell_type": "code",
   "execution_count": 3,
   "metadata": {},
   "outputs": [],
   "source": [
    "# JOBKOREA\n",
    "driver = webdriver.Chrome(executable_path=DRIVER_PATH)\n",
    "driver.maximize_window()\n",
    "driver.get(jk_dict['url_login'])\n",
    "\n",
    "# 로그인\n",
    "driver.find_element_by_xpath(jk_dict['cursor']).click()                        # 커서 활성화\n",
    "driver.find_element_by_name(jk_dict['tag_id']).send_keys(jk_dict['my_id'])  # ID\n",
    "driver.find_element_by_name(jk_dict['tag_pw']).send_keys(jk_dict['my_pw'])  # PW\n",
    "driver.find_element_by_xpath(jk_dict['click_login']).click()                   # 로그인 클릭\n",
    "\n",
    "# 이력서 페이지 이동\n",
    "driver.get(jk_dict['resume_page'])\n",
    "\n",
    "# 업데이트 클릭\n",
    "driver.find_element_by_xpath(jk_dict['click_event']).click()\n",
    "\n",
    "# 팝업창 엔터\n",
    "da = Alert(driver)\n",
    "da.accept()\n",
    "\n",
    "# 종료\n",
    "time.sleep(3)\n",
    "driver.close()"
   ]
  },
  {
   "cell_type": "code",
   "execution_count": 3,
   "metadata": {},
   "outputs": [],
   "source": [
    "# SARAMIN\n",
    "driver = webdriver.Chrome(executable_path=DRIVER_PATH)\n",
    "driver.maximize_window()\n",
    "driver.get(saram_dict['url_login'])\n",
    "\n",
    "# 로그인\n",
    "driver.find_element_by_xpath(saram_dict['cursor']).click()                        # 커서 활성화\n",
    "driver.find_element_by_name(saram_dict['tag_id']).send_keys(saram_dict['my_id'])  # ID\n",
    "driver.find_element_by_name(saram_dict['tag_pw']).send_keys(saram_dict['my_pw'])  # PW\n",
    "driver.find_element_by_xpath(saram_dict['click_login']).click()                   # 로그인 클릭\n",
    "\n",
    "# 이력서 페이지 이동\n",
    "driver.get(saram_dict['resume_page'])\n",
    "\n",
    "# 업데이트 클릭\n",
    "driver.find_element_by_xpath(saram_dict['click_event']).click()\n",
    "\n",
    "# 팝업창 엔터 (두번, 다시확인)\n",
    "da = Alert(driver)\n",
    "da.accept()\n",
    "\n",
    "# 종료\n",
    "time.sleep(3)\n",
    "driver.close()"
   ]
  }
 ],
 "metadata": {
  "kernelspec": {
   "display_name": "myproject",
   "language": "python",
   "name": "myproject"
  },
  "language_info": {
   "codemirror_mode": {
    "name": "ipython",
    "version": 3
   },
   "file_extension": ".py",
   "mimetype": "text/x-python",
   "name": "python",
   "nbconvert_exporter": "python",
   "pygments_lexer": "ipython3",
   "version": "3.8.5"
  }
 },
 "nbformat": 4,
 "nbformat_minor": 5
}
